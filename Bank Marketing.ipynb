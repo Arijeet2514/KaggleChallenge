{
  "nbformat": 4,
  "nbformat_minor": 0,
  "metadata": {
    "colab": {
      "name": "BANKDATAwithoutANN.ipynb",
      "provenance": []
    },
    "kernelspec": {
      "name": "python3",
      "display_name": "Python 3"
    }
  },
  "cells": [
    {
      "cell_type": "code",
      "metadata": {
        "id": "p_d6Qcc6GZq3",
        "colab_type": "code",
        "colab": {}
      },
      "source": [
        "import numpy as np\n",
        "import pandas as pd\n",
        "import tensorflow as tf\n",
        "from sklearn.model_selection import train_test_split\n",
        "\n",
        "df = pd.read_csv('dataset1.csv')\n",
        "\n",
        "df['deposit'].replace(('yes', 'no'), (1, 0), inplace=True)\n",
        "\n",
        "train, test = train_test_split(df, test_size=0.2)"
      ],
      "execution_count": 7,
      "outputs": []
    },
    {
      "cell_type": "code",
      "metadata": {
        "id": "URNvV_boKVie",
        "colab_type": "code",
        "colab": {}
      },
      "source": [
        "y_train = train.pop('deposit')\n",
        "y_test = test.pop('deposit')"
      ],
      "execution_count": 8,
      "outputs": []
    },
    {
      "cell_type": "code",
      "metadata": {
        "id": "jM_6V2oJL3DP",
        "colab_type": "code",
        "colab": {}
      },
      "source": [
        "CATEGORICAL_COLUMNS = ['job','marital','education','default','housing','loan','contact','month','poutcome']\n",
        "NUMERIC_COLUMNS = ['age','balance','day','duration','campaign','pdays','previous']\n",
        "\n",
        "def one_hot_cat_column(feature_name, vocab):\n",
        "  return tf.feature_column.indicator_column(\n",
        "      tf.feature_column.categorical_column_with_vocabulary_list(feature_name,\n",
        "                                                 vocab))\n",
        "feature_columns = []\n",
        "for feature_name in CATEGORICAL_COLUMNS:\n",
        "  vocabulary = train[feature_name].unique()\n",
        "  feature_columns.append(one_hot_cat_column(feature_name, vocabulary))\n",
        "\n",
        "for feature_name in NUMERIC_COLUMNS:\n",
        "  feature_columns.append(tf.feature_column.numeric_column(feature_name,\n",
        "                                           dtype=tf.float32))"
      ],
      "execution_count": 10,
      "outputs": []
    },
    {
      "cell_type": "code",
      "metadata": {
        "id": "vgz6VvHvM-7x",
        "colab_type": "code",
        "colab": {}
      },
      "source": [
        "NUM_EXAMPLES = len(y_train)\n",
        "\n",
        "def make_input_fn(X, y, n_epochs=None, shuffle=True):\n",
        "  def input_fn():\n",
        "    dataset = tf.data.Dataset.from_tensor_slices((dict(X), y))\n",
        "    if shuffle:\n",
        "      dataset = dataset.shuffle(NUM_EXAMPLES)\n",
        "    dataset = dataset.repeat(n_epochs)\n",
        "    dataset = dataset.batch(NUM_EXAMPLES)\n",
        "    return dataset\n",
        "  return input_fn\n",
        "\n",
        "train_input_fn = make_input_fn(train, y_train)\n",
        "eval_input_fn = make_input_fn(test, y_test, shuffle=False, n_epochs=1)"
      ],
      "execution_count": 11,
      "outputs": []
    },
    {
      "cell_type": "code",
      "metadata": {
        "id": "E4DTiQxFNYDV",
        "colab_type": "code",
        "colab": {
          "base_uri": "https://localhost:8080/",
          "height": 1000
        },
        "outputId": "d2a83ab4-fd9e-4ade-ff46-20b998188e5e"
      },
      "source": [
        "n_batches = 1\n",
        "n_tree=200\n",
        "est = tf.estimator.BoostedTreesClassifier(feature_columns,\n",
        "                                          n_batches_per_layer=n_batches,n_trees=n_tree)\n",
        "est.train(train_input_fn, max_steps=500)\n",
        "\n",
        "result = est.evaluate(eval_input_fn)\n",
        "print(pd.Series(result))"
      ],
      "execution_count": 36,
      "outputs": [
        {
          "output_type": "stream",
          "text": [
            "INFO:tensorflow:Using default config.\n",
            "WARNING:tensorflow:Using temporary folder as model directory: /tmp/tmpqorgs6ag\n",
            "INFO:tensorflow:Using config: {'_model_dir': '/tmp/tmpqorgs6ag', '_tf_random_seed': None, '_save_summary_steps': 100, '_save_checkpoints_steps': None, '_save_checkpoints_secs': 600, '_session_config': allow_soft_placement: true\n",
            "graph_options {\n",
            "  rewrite_options {\n",
            "    meta_optimizer_iterations: ONE\n",
            "  }\n",
            "}\n",
            ", '_keep_checkpoint_max': 5, '_keep_checkpoint_every_n_hours': 10000, '_log_step_count_steps': 100, '_train_distribute': None, '_device_fn': None, '_protocol': None, '_eval_distribute': None, '_experimental_distribute': None, '_experimental_max_worker_delay_secs': None, '_session_creation_timeout_secs': 7200, '_service': None, '_cluster_spec': ClusterSpec({}), '_task_type': 'worker', '_task_id': 0, '_global_id_in_cluster': 0, '_master': '', '_evaluation_master': '', '_is_chief': True, '_num_ps_replicas': 0, '_num_worker_replicas': 1}\n",
            "INFO:tensorflow:Calling model_fn.\n",
            "INFO:tensorflow:Done calling model_fn.\n",
            "INFO:tensorflow:Create CheckpointSaverHook.\n",
            "WARNING:tensorflow:Issue encountered when serializing resources.\n",
            "Type is unsupported, or the types of the items don't match field type in CollectionDef. Note this is a warning and probably safe to ignore.\n",
            "'_Resource' object has no attribute 'name'\n",
            "INFO:tensorflow:Graph was finalized.\n",
            "INFO:tensorflow:Running local_init_op.\n",
            "INFO:tensorflow:Done running local_init_op.\n",
            "WARNING:tensorflow:Issue encountered when serializing resources.\n",
            "Type is unsupported, or the types of the items don't match field type in CollectionDef. Note this is a warning and probably safe to ignore.\n",
            "'_Resource' object has no attribute 'name'\n",
            "INFO:tensorflow:Calling checkpoint listeners before saving checkpoint 0...\n",
            "INFO:tensorflow:Saving checkpoints for 0 into /tmp/tmpqorgs6ag/model.ckpt.\n",
            "WARNING:tensorflow:Issue encountered when serializing resources.\n",
            "Type is unsupported, or the types of the items don't match field type in CollectionDef. Note this is a warning and probably safe to ignore.\n",
            "'_Resource' object has no attribute 'name'\n",
            "INFO:tensorflow:Calling checkpoint listeners after saving checkpoint 0...\n",
            "INFO:tensorflow:loss = 0.6931459, step = 0\n",
            "INFO:tensorflow:global_step/sec: 6.88177\n",
            "INFO:tensorflow:loss = 0.29485962, step = 99 (14.538 sec)\n",
            "INFO:tensorflow:global_step/sec: 5.89759\n",
            "INFO:tensorflow:loss = 0.23773752, step = 199 (16.951 sec)\n",
            "INFO:tensorflow:global_step/sec: 5.14246\n",
            "INFO:tensorflow:loss = 0.20569111, step = 299 (19.450 sec)\n",
            "INFO:tensorflow:global_step/sec: 4.59778\n",
            "INFO:tensorflow:loss = 0.17690432, step = 399 (21.746 sec)\n",
            "INFO:tensorflow:global_step/sec: 4.2245\n",
            "INFO:tensorflow:loss = 0.1611786, step = 499 (23.672 sec)\n",
            "INFO:tensorflow:Calling checkpoint listeners before saving checkpoint 500...\n",
            "INFO:tensorflow:Saving checkpoints for 500 into /tmp/tmpqorgs6ag/model.ckpt.\n",
            "WARNING:tensorflow:Issue encountered when serializing resources.\n",
            "Type is unsupported, or the types of the items don't match field type in CollectionDef. Note this is a warning and probably safe to ignore.\n",
            "'_Resource' object has no attribute 'name'\n",
            "INFO:tensorflow:Calling checkpoint listeners after saving checkpoint 500...\n",
            "INFO:tensorflow:Loss for final step: 0.1611786.\n",
            "INFO:tensorflow:Calling model_fn.\n",
            "WARNING:tensorflow:Trapezoidal rule is known to produce incorrect PR-AUCs; please switch to \"careful_interpolation\" instead.\n",
            "WARNING:tensorflow:Trapezoidal rule is known to produce incorrect PR-AUCs; please switch to \"careful_interpolation\" instead.\n",
            "INFO:tensorflow:Done calling model_fn.\n",
            "INFO:tensorflow:Starting evaluation at 2020-06-22T15:23:08Z\n",
            "INFO:tensorflow:Graph was finalized.\n",
            "INFO:tensorflow:Restoring parameters from /tmp/tmpqorgs6ag/model.ckpt-500\n",
            "INFO:tensorflow:Running local_init_op.\n",
            "INFO:tensorflow:Done running local_init_op.\n",
            "INFO:tensorflow:Inference Time : 0.79554s\n",
            "INFO:tensorflow:Finished evaluation at 2020-06-22-15:23:09\n",
            "INFO:tensorflow:Saving dict for global step 500: accuracy = 0.8625168, accuracy_baseline = 0.5073892, auc = 0.9288166, auc_precision_recall = 0.91100675, average_loss = 0.3351892, global_step = 500, label/mean = 0.49261084, loss = 0.3351892, precision = 0.85119575, prediction/mean = 0.4881471, recall = 0.87363636\n",
            "WARNING:tensorflow:Issue encountered when serializing resources.\n",
            "Type is unsupported, or the types of the items don't match field type in CollectionDef. Note this is a warning and probably safe to ignore.\n",
            "'_Resource' object has no attribute 'name'\n",
            "INFO:tensorflow:Saving 'checkpoint_path' summary for global step 500: /tmp/tmpqorgs6ag/model.ckpt-500\n",
            "accuracy                  0.862517\n",
            "accuracy_baseline         0.507389\n",
            "auc                       0.928817\n",
            "auc_precision_recall      0.911007\n",
            "average_loss              0.335189\n",
            "label/mean                0.492611\n",
            "loss                      0.335189\n",
            "precision                 0.851196\n",
            "prediction/mean           0.488147\n",
            "recall                    0.873636\n",
            "global_step             500.000000\n",
            "dtype: float64\n"
          ],
          "name": "stdout"
        }
      ]
    },
    {
      "cell_type": "code",
      "metadata": {
        "id": "xPG4VvouNhoL",
        "colab_type": "code",
        "colab": {}
      },
      "source": [
        ""
      ],
      "execution_count": null,
      "outputs": []
    }
  ]
}