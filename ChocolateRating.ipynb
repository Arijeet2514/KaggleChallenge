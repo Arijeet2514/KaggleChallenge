{
  "nbformat": 4,
  "nbformat_minor": 0,
  "metadata": {
    "colab": {
      "name": "Untitled0.ipynb",
      "provenance": []
    },
    "kernelspec": {
      "name": "python3",
      "display_name": "Python 3"
    }
  },
  "cells": [
    {
      "cell_type": "code",
      "metadata": {
        "id": "EYIUgHhZX3Hg",
        "colab_type": "code",
        "colab": {}
      },
      "source": [
        "import pandas as pd\n",
        "import numpy as np\n",
        "import tensorflow as tf\n",
        "from tensorflow import keras\n",
        "from tensorflow import feature_column\n",
        "from sklearn.model_selection import train_test_split"
      ],
      "execution_count": 465,
      "outputs": []
    },
    {
      "cell_type": "code",
      "metadata": {
        "id": "k_HBglRhYCey",
        "colab_type": "code",
        "colab": {}
      },
      "source": [
        "df=pd.read_csv('dataset2.csv')"
      ],
      "execution_count": 517,
      "outputs": []
    },
    {
      "cell_type": "code",
      "metadata": {
        "id": "SX1UNcT0YLnK",
        "colab_type": "code",
        "colab": {}
      },
      "source": [
        "df.rename(columns = {'Company\\xa0\\n(Maker-if known)':'Company', 'Specific Bean Origin\\nor Bar Name':'Region', \n",
        "                              'Review\\nDate':'Date','Cocoa\\nPercent':'Cocoa','Company\\nLocation':'Location',\n",
        "                              'Bean\\nType':'Type','Broad Bean\\nOrigin':'Origin'}, inplace = True) "
      ],
      "execution_count": 518,
      "outputs": []
    },
    {
      "cell_type": "code",
      "metadata": {
        "id": "FHzMejBVowdG",
        "colab_type": "code",
        "colab": {}
      },
      "source": [
        "df=df.dropna()"
      ],
      "execution_count": 519,
      "outputs": []
    },
    {
      "cell_type": "code",
      "metadata": {
        "id": "j6Sh8pT3sGWE",
        "colab_type": "code",
        "colab": {}
      },
      "source": [
        "df['Cocoa'] = df['Cocoa'].map(lambda x: x.rstrip('%'))"
      ],
      "execution_count": 520,
      "outputs": []
    },
    {
      "cell_type": "code",
      "metadata": {
        "id": "XIvriXJLsj2D",
        "colab_type": "code",
        "colab": {}
      },
      "source": [
        "df['Cocoa']=df['Cocoa'].astype(float)"
      ],
      "execution_count": 521,
      "outputs": []
    },
    {
      "cell_type": "code",
      "metadata": {
        "id": "LTpatiiLVKoN",
        "colab_type": "code",
        "colab": {
          "base_uri": "https://localhost:8080/",
          "height": 286
        },
        "outputId": "5555a71f-a2c3-44f8-c7c1-266fc7042ba1"
      },
      "source": [
        "df.info()"
      ],
      "execution_count": 522,
      "outputs": [
        {
          "output_type": "stream",
          "text": [
            "<class 'pandas.core.frame.DataFrame'>\n",
            "Int64Index: 1793 entries, 0 to 1794\n",
            "Data columns (total 9 columns):\n",
            " #   Column    Non-Null Count  Dtype  \n",
            "---  ------    --------------  -----  \n",
            " 0   Company   1793 non-null   object \n",
            " 1   Region    1793 non-null   object \n",
            " 2   REF       1793 non-null   int64  \n",
            " 3   Date      1793 non-null   int64  \n",
            " 4   Cocoa     1793 non-null   float64\n",
            " 5   Location  1793 non-null   object \n",
            " 6   Rating    1793 non-null   float64\n",
            " 7   Type      1793 non-null   object \n",
            " 8   Origin    1793 non-null   object \n",
            "dtypes: float64(2), int64(2), object(5)\n",
            "memory usage: 140.1+ KB\n"
          ],
          "name": "stdout"
        }
      ]
    },
    {
      "cell_type": "code",
      "metadata": {
        "id": "Czzwc4_ObiJd",
        "colab_type": "code",
        "colab": {
          "base_uri": "https://localhost:8080/",
          "height": 286
        },
        "outputId": "0c127466-d466-4bc6-8540-77d4da211c3b"
      },
      "source": [
        "rate4=df[df['Rating']>=4]\n",
        "top_beans=rate4[\"Origin\"].value_counts().head(15)\n",
        "top_beans"
      ],
      "execution_count": 523,
      "outputs": [
        {
          "output_type": "execute_result",
          "data": {
            "text/plain": [
              "Venezuela           21\n",
              "Madagascar          12\n",
              "Peru                12\n",
              "Ecuador              9\n",
              "Papua New Guinea     5\n",
              "Colombia             3\n",
              "                     3\n",
              "Mexico               3\n",
              "Bolivia              3\n",
              "Brazil               3\n",
              "Haiti                2\n",
              "Costa Rica           2\n",
              "Ghana                2\n",
              "Guatemala            2\n",
              "Jamaica              2\n",
              "Name: Origin, dtype: int64"
            ]
          },
          "metadata": {
            "tags": []
          },
          "execution_count": 523
        }
      ]
    },
    {
      "cell_type": "code",
      "metadata": {
        "id": "mdzW60iPb3E5",
        "colab_type": "code",
        "colab": {
          "base_uri": "https://localhost:8080/",
          "height": 34
        },
        "outputId": "66da9c7a-1131-47c6-c789-42e55a722802"
      },
      "source": [
        "top_beans.sum()/len(rate4)"
      ],
      "execution_count": 524,
      "outputs": [
        {
          "output_type": "execute_result",
          "data": {
            "text/plain": [
              "0.8484848484848485"
            ]
          },
          "metadata": {
            "tags": []
          },
          "execution_count": 524
        }
      ]
    },
    {
      "cell_type": "code",
      "metadata": {
        "id": "zr0HxPRVdZoO",
        "colab_type": "code",
        "colab": {
          "base_uri": "https://localhost:8080/",
          "height": 286
        },
        "outputId": "2232a59f-7b95-464a-8317-b79d233c67e9"
      },
      "source": [
        "rate3=df[df['Rating']>=3]\n",
        "top_beans1=rate3[\"Origin\"].value_counts().head(15)\n",
        "top_beans1"
      ],
      "execution_count": 525,
      "outputs": [
        {
          "output_type": "execute_result",
          "data": {
            "text/plain": [
              "Venezuela             166\n",
              "Ecuador               138\n",
              "Madagascar            117\n",
              "Dominican Republic    113\n",
              "Peru                  111\n",
              "Brazil                 48\n",
              "                       47\n",
              "Nicaragua              45\n",
              "Bolivia                45\n",
              "Belize                 43\n",
              "Papua New Guinea       35\n",
              "Vietnam                34\n",
              "Colombia               31\n",
              "Costa Rica             29\n",
              "Tanzania               26\n",
              "Name: Origin, dtype: int64"
            ]
          },
          "metadata": {
            "tags": []
          },
          "execution_count": 525
        }
      ]
    },
    {
      "cell_type": "code",
      "metadata": {
        "id": "0OA_H0tNcCz5",
        "colab_type": "code",
        "colab": {
          "base_uri": "https://localhost:8080/",
          "height": 34
        },
        "outputId": "86c3b8e8-4f77-49f4-b100-e845697f1268"
      },
      "source": [
        "top_beans1.sum()/len(rate3)"
      ],
      "execution_count": 526,
      "outputs": [
        {
          "output_type": "execute_result",
          "data": {
            "text/plain": [
              "0.7643122676579925"
            ]
          },
          "metadata": {
            "tags": []
          },
          "execution_count": 526
        }
      ]
    },
    {
      "cell_type": "markdown",
      "metadata": {
        "id": "pQTvelCWglVX",
        "colab_type": "text"
      },
      "source": [
        "Clearly Venezuela is the place where Best Cocoa beans are grown.\n"
      ]
    },
    {
      "cell_type": "code",
      "metadata": {
        "id": "UzNwSG9Xeys1",
        "colab_type": "code",
        "colab": {
          "base_uri": "https://localhost:8080/",
          "height": 286
        },
        "outputId": "62340883-d6aa-4af5-e2aa-1d368f5a0772"
      },
      "source": [
        "top_beans2=rate4[\"Location\"].value_counts().head(15)\n",
        "top_beans2"
      ],
      "execution_count": 527,
      "outputs": [
        {
          "output_type": "execute_result",
          "data": {
            "text/plain": [
              "U.S.A.         25\n",
              "France         23\n",
              "Italy           9\n",
              "Canada          9\n",
              "Belgium         6\n",
              "Switzerland     6\n",
              "U.K.            4\n",
              "Australia       4\n",
              "Spain           3\n",
              "Ecuador         3\n",
              "Scotland        1\n",
              "Guatemala       1\n",
              "Madagascar      1\n",
              "Brazil          1\n",
              "Sao Tome        1\n",
              "Name: Location, dtype: int64"
            ]
          },
          "metadata": {
            "tags": []
          },
          "execution_count": 527
        }
      ]
    },
    {
      "cell_type": "code",
      "metadata": {
        "id": "amVIwt9Zgx8p",
        "colab_type": "code",
        "colab": {
          "base_uri": "https://localhost:8080/",
          "height": 34
        },
        "outputId": "54937177-f719-42df-93fe-413f6e51bcb1"
      },
      "source": [
        "top_beans2.sum()/len(rate4)"
      ],
      "execution_count": 528,
      "outputs": [
        {
          "output_type": "execute_result",
          "data": {
            "text/plain": [
              "0.9797979797979798"
            ]
          },
          "metadata": {
            "tags": []
          },
          "execution_count": 528
        }
      ]
    },
    {
      "cell_type": "code",
      "metadata": {
        "id": "UVfHlAhcf2ih",
        "colab_type": "code",
        "colab": {
          "base_uri": "https://localhost:8080/",
          "height": 286
        },
        "outputId": "343f8de4-39f7-4dd9-dada-7de0be13ca00"
      },
      "source": [
        "top_beans3=rate3[\"Location\"].value_counts().head(15)\n",
        "top_beans3"
      ],
      "execution_count": 529,
      "outputs": [
        {
          "output_type": "execute_result",
          "data": {
            "text/plain": [
              "U.S.A.         560\n",
              "France         121\n",
              "Canada         104\n",
              "U.K.            58\n",
              "Italy           56\n",
              "Australia       41\n",
              "Ecuador         34\n",
              "Switzerland     33\n",
              "Germany         29\n",
              "Belgium         29\n",
              "Austria         22\n",
              "Spain           20\n",
              "Hungary         17\n",
              "Colombia        17\n",
              "Brazil          15\n",
              "Name: Location, dtype: int64"
            ]
          },
          "metadata": {
            "tags": []
          },
          "execution_count": 529
        }
      ]
    },
    {
      "cell_type": "code",
      "metadata": {
        "id": "ZihgxZJqg3aC",
        "colab_type": "code",
        "colab": {
          "base_uri": "https://localhost:8080/",
          "height": 34
        },
        "outputId": "695840a3-80a7-4456-c3c7-b5f08753909e"
      },
      "source": [
        "top_beans3.sum()/len(rate3)"
      ],
      "execution_count": 530,
      "outputs": [
        {
          "output_type": "execute_result",
          "data": {
            "text/plain": [
              "0.8594795539033457"
            ]
          },
          "metadata": {
            "tags": []
          },
          "execution_count": 530
        }
      ]
    },
    {
      "cell_type": "markdown",
      "metadata": {
        "id": "RnB752hXg6yU",
        "colab_type": "text"
      },
      "source": [
        "USA produces the highest rated bars."
      ]
    },
    {
      "cell_type": "code",
      "metadata": {
        "id": "1hVbYX88kmQR",
        "colab_type": "code",
        "colab": {
          "base_uri": "https://localhost:8080/",
          "height": 295
        },
        "outputId": "203aa14f-045c-4aee-e9ac-c5be4bb0b692"
      },
      "source": [
        "import matplotlib.pyplot as plt\n",
        "\n",
        "plt.scatter(df['Cocoa'], df['Rating'])\n",
        "plt.title('Rating vs Cocoa Percent')\n",
        "plt.xlabel('Percentage of Cocoa')\n",
        "plt.ylabel('Rating')\n",
        "plt.show()"
      ],
      "execution_count": 531,
      "outputs": [
        {
          "output_type": "display_data",
          "data": {
            "image/png": "[encoded data removed]",
            "text/plain": [
              "<Figure size 432x288 with 1 Axes>"
            ]
          },
          "metadata": {
            "tags": [],
            "needs_background": "light"
          }
        }
      ]
    },
    {
      "cell_type": "code",
      "metadata": {
        "id": "mt4cTFzolWcN",
        "colab_type": "code",
        "colab": {}
      },
      "source": [
        "df['Rating'] = df['Rating'].round().astype(int)"
      ],
      "execution_count": 532,
      "outputs": []
    },
    {
      "cell_type": "code",
      "metadata": {
        "id": "jDL5gF_rp567",
        "colab_type": "code",
        "colab": {}
      },
      "source": [
        "def cat_column(feature_name, vocab):\n",
        "  return tf.feature_column.categorical_column_with_vocabulary_list(feature_name,\n",
        "                                                 vocab)"
      ],
      "execution_count": 533,
      "outputs": []
    },
    {
      "cell_type": "code",
      "metadata": {
        "id": "CkEV6wCrnHWL",
        "colab_type": "code",
        "colab": {}
      },
      "source": [
        "feature_columns = []\n",
        "\n",
        "EMBEDDING_COLUMNS=['Company','Region','Location','Type','Origin']\n",
        "NUMERIC_COLUMNS = ['Cocoa','REF','Date']\n",
        "\n",
        "for feature_name in EMBEDDING_COLUMNS:\n",
        "  vocabulary = df[feature_name].unique()\n",
        "  feature_columns.append(tf.feature_column.embedding_column(cat_column(feature_name, vocabulary), dimension=8))\n",
        "\n",
        "for feature_name in NUMERIC_COLUMNS:\n",
        "  feature_columns.append(tf.feature_column.numeric_column(feature_name,\n",
        "                                           dtype=tf.float32))  "
      ],
      "execution_count": 534,
      "outputs": []
    },
    {
      "cell_type": "code",
      "metadata": {
        "id": "85RgPwQB7wHt",
        "colab_type": "code",
        "colab": {}
      },
      "source": [
        "train, test = train_test_split(df, test_size=0.2)"
      ],
      "execution_count": 537,
      "outputs": []
    },
    {
      "cell_type": "code",
      "metadata": {
        "id": "CaZf_CCL69zM",
        "colab_type": "code",
        "colab": {}
      },
      "source": [
        "y_train = train.pop('Rating')\n",
        "y_test = test.pop('Rating')"
      ],
      "execution_count": 538,
      "outputs": []
    },
    {
      "cell_type": "code",
      "metadata": {
        "id": "QamDbtoI7EJF",
        "colab_type": "code",
        "colab": {}
      },
      "source": [
        "NUM_EXAMPLES = len(y_train)\n",
        "\n",
        "def make_input_fn(X, y, n_epochs=None, shuffle=True):\n",
        "  def input_fn():\n",
        "    dataset = tf.data.Dataset.from_tensor_slices((dict(X), y))\n",
        "    if shuffle:\n",
        "      dataset = dataset.shuffle(NUM_EXAMPLES)\n",
        "    dataset = dataset.repeat(n_epochs)\n",
        "    dataset = dataset.batch(NUM_EXAMPLES)\n",
        "    return dataset\n",
        "  return input_fn\n",
        "\n",
        "train_input_fn = make_input_fn(train, y_train)\n",
        "eval_input_fn = make_input_fn(test, y_test, shuffle=False, n_epochs=1)"
      ],
      "execution_count": 539,
      "outputs": []
    },
    {
      "cell_type": "code",
      "metadata": {
        "id": "P0Z3gV4W7VmD",
        "colab_type": "code",
        "colab": {
          "base_uri": "https://localhost:8080/",
          "height": 1000
        },
        "outputId": "68e8cc66-c66c-47ac-c122-ce5e0f993235"
      },
      "source": [
        "est = tf.estimator.DNNClassifier(feature_columns=feature_columns,hidden_units=[512,128,128],n_classes=7)\n",
        "est.train(train_input_fn,steps=3000)\n",
        "result = est.evaluate(eval_input_fn)"
      ],
      "execution_count": 542,
      "outputs": [
        {
          "output_type": "stream",
          "text": [
            "INFO:tensorflow:Using default config.\n",
            "WARNING:tensorflow:Using temporary folder as model directory: /tmp/tmpiujwwcxi\n",
            "INFO:tensorflow:Using config: {'_model_dir': '/tmp/tmpiujwwcxi', '_tf_random_seed': None, '_save_summary_steps': 100, '_save_checkpoints_steps': None, '_save_checkpoints_secs': 600, '_session_config': allow_soft_placement: true\n",
            "graph_options {\n",
            "  rewrite_options {\n",
            "    meta_optimizer_iterations: ONE\n",
            "  }\n",
            "}\n",
            ", '_keep_checkpoint_max': 5, '_keep_checkpoint_every_n_hours': 10000, '_log_step_count_steps': 100, '_train_distribute': None, '_device_fn': None, '_protocol': None, '_eval_distribute': None, '_experimental_distribute': None, '_experimental_max_worker_delay_secs': None, '_session_creation_timeout_secs': 7200, '_service': None, '_cluster_spec': ClusterSpec({}), '_task_type': 'worker', '_task_id': 0, '_global_id_in_cluster': 0, '_master': '', '_evaluation_master': '', '_is_chief': True, '_num_ps_replicas': 0, '_num_worker_replicas': 1}\n",
            "INFO:tensorflow:Calling model_fn.\n",
            "WARNING:tensorflow:Layer dnn is casting an input tensor from dtype float64 to the layer's dtype of float32, which is new behavior in TensorFlow 2.  The layer has dtype float32 because it's dtype defaults to floatx.\n",
            "\n",
            "If you intended to run this layer in float32, you can safely ignore this warning. If in doubt, this warning is likely only an issue if you are porting a TensorFlow 1.X model to TensorFlow 2.\n",
            "\n",
            "To change all layers to have dtype float64 by default, call `tf.keras.backend.set_floatx('float64')`. To change just this layer, pass dtype='float64' to the layer constructor. If you are the author of this layer, you can disable autocasting by passing autocast=False to the base Layer constructor.\n",
            "\n",
            "INFO:tensorflow:Done calling model_fn.\n",
            "INFO:tensorflow:Create CheckpointSaverHook.\n",
            "INFO:tensorflow:Graph was finalized.\n",
            "INFO:tensorflow:Running local_init_op.\n",
            "INFO:tensorflow:Done running local_init_op.\n",
            "INFO:tensorflow:Calling checkpoint listeners before saving checkpoint 0...\n",
            "INFO:tensorflow:Saving checkpoints for 0 into /tmp/tmpiujwwcxi/model.ckpt.\n",
            "INFO:tensorflow:Calling checkpoint listeners after saving checkpoint 0...\n",
            "INFO:tensorflow:loss = 57.325092, step = 0\n",
            "INFO:tensorflow:global_step/sec: 28.5506\n",
            "INFO:tensorflow:loss = 3.3525476, step = 100 (3.504 sec)\n",
            "INFO:tensorflow:global_step/sec: 30.1373\n",
            "INFO:tensorflow:loss = 3.6425505, step = 200 (3.321 sec)\n",
            "INFO:tensorflow:global_step/sec: 30.0813\n",
            "INFO:tensorflow:loss = 1.6287692, step = 300 (3.322 sec)\n",
            "INFO:tensorflow:global_step/sec: 29.8179\n",
            "INFO:tensorflow:loss = 1.8711677, step = 400 (3.354 sec)\n",
            "INFO:tensorflow:global_step/sec: 30.2111\n",
            "INFO:tensorflow:loss = 1.7724906, step = 500 (3.313 sec)\n",
            "INFO:tensorflow:global_step/sec: 30.0932\n",
            "INFO:tensorflow:loss = 1.6203815, step = 600 (3.320 sec)\n",
            "INFO:tensorflow:global_step/sec: 29.7417\n",
            "INFO:tensorflow:loss = 1.491025, step = 700 (3.362 sec)\n",
            "INFO:tensorflow:global_step/sec: 30.0207\n",
            "INFO:tensorflow:loss = 1.3947133, step = 800 (3.334 sec)\n",
            "INFO:tensorflow:global_step/sec: 29.8326\n",
            "INFO:tensorflow:loss = 1.3180356, step = 900 (3.350 sec)\n",
            "INFO:tensorflow:global_step/sec: 29.9419\n",
            "INFO:tensorflow:loss = 1.2558553, step = 1000 (3.339 sec)\n",
            "INFO:tensorflow:global_step/sec: 29.8521\n",
            "INFO:tensorflow:loss = 1.2057936, step = 1100 (3.353 sec)\n",
            "INFO:tensorflow:global_step/sec: 29.8887\n",
            "INFO:tensorflow:loss = 1.1645597, step = 1200 (3.344 sec)\n",
            "INFO:tensorflow:global_step/sec: 29.8235\n",
            "INFO:tensorflow:loss = 1.1297543, step = 1300 (3.352 sec)\n",
            "INFO:tensorflow:global_step/sec: 30.0083\n",
            "INFO:tensorflow:loss = 1.1011888, step = 1400 (3.333 sec)\n",
            "INFO:tensorflow:global_step/sec: 30.0394\n",
            "INFO:tensorflow:loss = 1.076809, step = 1500 (3.328 sec)\n",
            "INFO:tensorflow:global_step/sec: 30.1439\n",
            "INFO:tensorflow:loss = 1.0563852, step = 1600 (3.317 sec)\n",
            "INFO:tensorflow:global_step/sec: 29.8746\n",
            "INFO:tensorflow:loss = 1.0383666, step = 1700 (3.347 sec)\n",
            "INFO:tensorflow:global_step/sec: 30.1483\n",
            "INFO:tensorflow:loss = 1.0231917, step = 1800 (3.317 sec)\n",
            "INFO:tensorflow:global_step/sec: 30.0588\n",
            "INFO:tensorflow:loss = 1.0101713, step = 1900 (3.330 sec)\n",
            "INFO:tensorflow:global_step/sec: 29.6615\n",
            "INFO:tensorflow:loss = 0.998794, step = 2000 (3.369 sec)\n",
            "INFO:tensorflow:global_step/sec: 29.759\n",
            "INFO:tensorflow:loss = 0.98883516, step = 2100 (3.360 sec)\n",
            "INFO:tensorflow:global_step/sec: 30.0125\n",
            "INFO:tensorflow:loss = 0.9803873, step = 2200 (3.335 sec)\n",
            "INFO:tensorflow:global_step/sec: 29.8946\n",
            "INFO:tensorflow:loss = 0.97289777, step = 2300 (3.345 sec)\n",
            "INFO:tensorflow:global_step/sec: 29.8749\n",
            "INFO:tensorflow:loss = 0.9662887, step = 2400 (3.347 sec)\n",
            "INFO:tensorflow:global_step/sec: 30.0656\n",
            "INFO:tensorflow:loss = 0.9604277, step = 2500 (3.326 sec)\n",
            "INFO:tensorflow:global_step/sec: 30.1611\n",
            "INFO:tensorflow:loss = 0.9553211, step = 2600 (3.313 sec)\n",
            "INFO:tensorflow:global_step/sec: 30.0215\n",
            "INFO:tensorflow:loss = 0.95097625, step = 2700 (3.333 sec)\n",
            "INFO:tensorflow:global_step/sec: 30.1202\n",
            "INFO:tensorflow:loss = 0.94686145, step = 2800 (3.318 sec)\n",
            "INFO:tensorflow:global_step/sec: 29.9444\n",
            "INFO:tensorflow:loss = 0.9443797, step = 2900 (3.342 sec)\n",
            "INFO:tensorflow:Calling checkpoint listeners before saving checkpoint 3000...\n",
            "INFO:tensorflow:Saving checkpoints for 3000 into /tmp/tmpiujwwcxi/model.ckpt.\n",
            "INFO:tensorflow:Calling checkpoint listeners after saving checkpoint 3000...\n",
            "INFO:tensorflow:Loss for final step: 0.9401072.\n",
            "INFO:tensorflow:Calling model_fn.\n",
            "WARNING:tensorflow:Layer dnn is casting an input tensor from dtype float64 to the layer's dtype of float32, which is new behavior in TensorFlow 2.  The layer has dtype float32 because it's dtype defaults to floatx.\n",
            "\n",
            "If you intended to run this layer in float32, you can safely ignore this warning. If in doubt, this warning is likely only an issue if you are porting a TensorFlow 1.X model to TensorFlow 2.\n",
            "\n",
            "To change all layers to have dtype float64 by default, call `tf.keras.backend.set_floatx('float64')`. To change just this layer, pass dtype='float64' to the layer constructor. If you are the author of this layer, you can disable autocasting by passing autocast=False to the base Layer constructor.\n",
            "\n",
            "INFO:tensorflow:Done calling model_fn.\n",
            "INFO:tensorflow:Starting evaluation at 2020-06-23T16:12:04Z\n",
            "INFO:tensorflow:Graph was finalized.\n",
            "INFO:tensorflow:Restoring parameters from /tmp/tmpiujwwcxi/model.ckpt-3000\n",
            "INFO:tensorflow:Running local_init_op.\n",
            "INFO:tensorflow:Done running local_init_op.\n",
            "INFO:tensorflow:Inference Time : 0.37827s\n",
            "INFO:tensorflow:Finished evaluation at 2020-06-23-16:12:04\n",
            "INFO:tensorflow:Saving dict for global step 3000: accuracy = 0.53481895, average_loss = 0.9530292, global_step = 3000, loss = 0.9530292\n",
            "INFO:tensorflow:Saving 'checkpoint_path' summary for global step 3000: /tmp/tmpiujwwcxi/model.ckpt-3000\n"
          ],
          "name": "stdout"
        }
      ]
    },
    {
      "cell_type": "code",
      "metadata": {
        "id": "kyCat9rN77Ml",
        "colab_type": "code",
        "colab": {
          "base_uri": "https://localhost:8080/",
          "height": 34
        },
        "outputId": "c7986cb7-8c3d-45a1-be48-7689f04980a5"
      },
      "source": [
        "print(result)"
      ],
      "execution_count": 543,
      "outputs": [
        {
          "output_type": "stream",
          "text": [
            "{'accuracy': 0.53481895, 'average_loss': 0.9530292, 'loss': 0.9530292, 'global_step': 3000}\n"
          ],
          "name": "stdout"
        }
      ]
    },
    {
      "cell_type": "code",
      "metadata": {
        "id": "RPpyxJpQ_rCH",
        "colab_type": "code",
        "colab": {}
      },
      "source": [
        ""
      ],
      "execution_count": null,
      "outputs": []
    }
  ]
}